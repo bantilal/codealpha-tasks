{
 "cells": [
  {
   "cell_type": "code",
   "execution_count": null,
   "id": "a1f0e6ac",
   "metadata": {},
   "outputs": [],
   "source": []
  },
  {
   "cell_type": "markdown",
   "id": "9fb92dcc",
   "metadata": {},
   "source": [
    "# Fibonacci sequence  using python programming "
   ]
  },
  {
   "cell_type": "code",
   "execution_count": 1,
   "id": "bd6312d4",
   "metadata": {},
   "outputs": [],
   "source": [
    "def fibonacci(n):\n",
    "    fib_sequence=[0,1]\n",
    "    \n",
    "    if n <=0:\n",
    "        return \"Invalid Input\"\n",
    "    elif n==1:\n",
    "        return [0]\n",
    "    elif n==2:\n",
    "        return fib_sequence\n",
    "    \n",
    "    for i in range(2,n):\n",
    "        next_fibonacci = fib_sequence[-1]+fib_sequence[-2]\n",
    "        fib_sequence.append(next_fibonacci)\n",
    "    return fib_sequence"
   ]
  },
  {
   "cell_type": "code",
   "execution_count": 2,
   "id": "23b57718",
   "metadata": {},
   "outputs": [],
   "source": [
    "def fib_input():\n",
    "    n = int(input(\"Enter the number for fibonacci genrator series('from 0 to infinite')  : \"))\n",
    "    print(fibonacci(n))"
   ]
  },
  {
   "cell_type": "code",
   "execution_count": 3,
   "id": "38156b10",
   "metadata": {},
   "outputs": [
    {
     "name": "stdout",
     "output_type": "stream",
     "text": [
      "Enter the number for fibonacci genrator series('from 0 to infinite')  : 52\n",
      "[0, 1, 1, 2, 3, 5, 8, 13, 21, 34, 55, 89, 144, 233, 377, 610, 987, 1597, 2584, 4181, 6765, 10946, 17711, 28657, 46368, 75025, 121393, 196418, 317811, 514229, 832040, 1346269, 2178309, 3524578, 5702887, 9227465, 14930352, 24157817, 39088169, 63245986, 102334155, 165580141, 267914296, 433494437, 701408733, 1134903170, 1836311903, 2971215073, 4807526976, 7778742049, 12586269025, 20365011074]\n"
     ]
    }
   ],
   "source": [
    "fib_input()"
   ]
  },
  {
   "cell_type": "code",
   "execution_count": null,
   "id": "f897de39",
   "metadata": {},
   "outputs": [],
   "source": []
  },
  {
   "cell_type": "code",
   "execution_count": null,
   "id": "80d77659",
   "metadata": {},
   "outputs": [],
   "source": []
  },
  {
   "cell_type": "code",
   "execution_count": null,
   "id": "6398dad0",
   "metadata": {},
   "outputs": [],
   "source": []
  },
  {
   "cell_type": "code",
   "execution_count": null,
   "id": "f58e0358",
   "metadata": {},
   "outputs": [],
   "source": []
  }
 ],
 "metadata": {
  "kernelspec": {
   "display_name": "Python 3 (ipykernel)",
   "language": "python",
   "name": "python3"
  },
  "language_info": {
   "codemirror_mode": {
    "name": "ipython",
    "version": 3
   },
   "file_extension": ".py",
   "mimetype": "text/x-python",
   "name": "python",
   "nbconvert_exporter": "python",
   "pygments_lexer": "ipython3",
   "version": "3.11.4"
  }
 },
 "nbformat": 4,
 "nbformat_minor": 5
}
